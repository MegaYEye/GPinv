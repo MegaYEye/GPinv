{
 "cells": [
  {
   "cell_type": "markdown",
   "metadata": {},
   "source": [
    "# An example for GPinv.linear_model\n",
    "\n",
    "This notebook briefly shows an example for GPinv.linear_model.\n",
    "\n",
    "*Keisuke Fujii 1st Sept. 2016*"
   ]
  },
  {
   "cell_type": "markdown",
   "metadata": {},
   "source": [
    "## Synthetic observation\n",
    "\n",
    "Consider we observe a cylindrical transparent mediam with multiple ($N$) lines-of-sight, as shown below.\n",
    "\n",
    "<img src=cylindrical.png>\n",
    "\n",
    "The local emission intensity $f$ is a function of the radius $r$.\n",
    "The observed emission intensity $\\mathbf{T}$ is a result of the integration along the line-of-sight as\n",
    "$$\n",
    "\\mathbf{Y} = \\int_{x} f(r) dx + \\mathbf{e}\n",
    "$$\n",
    "\n",
    "where $\\mathbf{e}$ is a i.i.d. Gaussian noise.\n",
    "\n",
    "We divided $f$ into $n$ discrete points $\\mathbf{f}$, then the above integration can be approximated as follows\n",
    "$$\n",
    "\\mathbf{Y} = \\mathrm{A} \\mathbf{f} + \\mathbf{e}\n",
    "$$"
   ]
  },
  {
   "cell_type": "markdown",
   "metadata": {},
   "source": [
    "For the matrix $\\mathrm{A}$ construction, \n",
    "please see `testing/test_linear_model.py`"
   ]
  },
  {
   "cell_type": "code",
   "execution_count": 1,
   "metadata": {
    "collapsed": false
   },
   "outputs": [],
   "source": [
    "import numpy as np\n",
    "%matplotlib inline\n",
    "import matplotlib.pyplot as plt\n",
    "import sys\n",
    "sys.path.append('../testing/')\n",
    "from test_linear_model import make_LosMatrix"
   ]
  },
  {
   "cell_type": "markdown",
   "metadata": {},
   "source": [
    "## Latent functions"
   ]
  },
  {
   "cell_type": "code",
   "execution_count": 2,
   "metadata": {
    "collapsed": true
   },
   "outputs": [],
   "source": [
    "n = 30\n",
    "N = 40\n",
    "# radial coordinate\n",
    "r = np.linspace(0, 1., n)\n",
    "# synthetic latent function\n",
    "f = np.exp(-(r-0.3)*(r-0.3)/0.1) + np.exp(-(r+0.3)*(r+0.3)/0.1)"
   ]
  },
  {
   "cell_type": "code",
   "execution_count": 3,
   "metadata": {
    "collapsed": false
   },
   "outputs": [
    {
     "data": {
      "text/plain": [
       "<matplotlib.text.Text at 0x7f671b482208>"
      ]
     },
     "execution_count": 3,
     "metadata": {},
     "output_type": "execute_result"
    },
    {
     "data": {
      "image/png": "[encoded data removed]",
      "text/plain": [
       "<matplotlib.figure.Figure at 0x7f6749fb44e0>"
      ]
     },
     "metadata": {},
     "output_type": "display_data"
    }
   ],
   "source": [
    "# plotting the latent function\n",
    "plt.plot(r, f)\n",
    "plt.xlabel('r')\n",
    "plt.ylabel('f')"
   ]
  },
  {
   "cell_type": "markdown",
   "metadata": {},
   "source": [
    "## Synthetic experiment"
   ]
  },
  {
   "cell_type": "code",
   "execution_count": 4,
   "metadata": {
    "collapsed": true
   },
   "outputs": [],
   "source": [
    "# los height\n",
    "z = np.linspace(-0.9,0.9, N)\n",
    "# Los-matrix\n",
    "A = make_LosMatrix(r, z)"
   ]
  },
  {
   "cell_type": "code",
   "execution_count": 5,
   "metadata": {
    "collapsed": false
   },
   "outputs": [
    {
     "data": {
      "text/plain": [
       "<matplotlib.text.Text at 0x7f67193a8a58>"
      ]
     },
     "execution_count": 5,
     "metadata": {},
     "output_type": "execute_result"
    },
    {
     "data": {
      "image/png": "[encoded data removed]",
      "text/plain": [
       "<matplotlib.figure.Figure at 0x7f671940dcc0>"
      ]
     },
     "metadata": {},
     "output_type": "display_data"
    }
   ],
   "source": [
    "plt.imshow(A, interpolation='nearest')\n",
    "plt.xlabel('r_index')\n",
    "plt.ylabel('z_index')"
   ]
  },
  {
   "cell_type": "code",
   "execution_count": 6,
   "metadata": {
    "collapsed": true
   },
   "outputs": [],
   "source": [
    "# noise amplitude \n",
    "e_amp = 0.1\n",
    "# synthetic observation\n",
    "y = np.dot(A, f) + e_amp * np.random.randn(N)"
   ]
  },
  {
   "cell_type": "code",
   "execution_count": 7,
   "metadata": {
    "collapsed": false
   },
   "outputs": [
    {
     "data": {
      "text/plain": [
       "<matplotlib.text.Text at 0x7f6719396358>"
      ]
     },
     "execution_count": 7,
     "metadata": {},
     "output_type": "execute_result"
    },
    {
     "data": {
      "image/png": "[encoded data removed]",
      "text/plain": [
       "<matplotlib.figure.Figure at 0x7f671937d908>"
      ]
     },
     "metadata": {},
     "output_type": "display_data"
    }
   ],
   "source": [
    "plt.plot(z, y, 'o', [-1,1],[0,0], '--k')\n",
    "plt.xlabel('z: los-height')\n",
    "plt.ylabel('y: observation')"
   ]
  },
  {
   "cell_type": "markdown",
   "metadata": {},
   "source": [
    "## Gaussian Process prior\n",
    "\n",
    "### Bayesian statistics for the inverse problem\n",
    "Because the inference of $\\mathbf{f}$ from the noisy discrete observation $\\mathbf{Y}$ is an inverse problem,\n",
    "some prior information is necessary.\n",
    "\n",
    "In the Bayesian context, the posterior distribution can be written by"
   ]
  },
  {
   "cell_type": "markdown",
   "metadata": {},
   "source": [
    "$$\n",
    "\\mathcal{P}(\\mathbf{f}|\\mathbf{Y}) \n",
    "= \\int \\mathcal{P}(\\mathbf{f}|\\mathbf{Y},\\theta) \n",
    "  \\mathcal{P}(\\theta)\\mathrm{d}\\theta\n",
    "= \\int \\frac{\\mathcal{P}(\\mathbf{Y}|\\mathbf{f},\\theta)\\mathcal{P}(\\mathbf{f}|\\theta)}\n",
    "            {\\mathcal{P}(\\mathbf{Y}|\\theta)} \n",
    "  \\mathcal{P}(\\theta)\\mathrm{d} \\theta\n",
    "$$\n",
    "where $\\theta$ is a set of hyperparameters."
   ]
  },
  {
   "cell_type": "markdown",
   "metadata": {},
   "source": [
    "### Gaussian Process\n",
    "\n",
    "We adopt Gaussian Process (GP) prior for the latent function $f$.\n",
    "\n",
    "It means any set of realizations of $\\mathbf{f}$ follows a multivariate Gaussian,\n",
    "$$\n",
    "\\mathcal{P}(\\mathbf{f}|\\theta) = \\mathcal{N}(\\mathbf{f}|\\mathbf{m}_f(\\theta), \\mathrm{K}(\\theta))\n",
    "$$"
   ]
  },
  {
   "cell_type": "markdown",
   "metadata": {},
   "source": [
    "### MAP estimates of the hyperparameter $\\theta$.\n",
    "\n",
    "For the evaluation of $\\theta$, we adopt the maximum posterior estimates of $\\theta$, \n",
    "where posterior of $\\theta$ is\n",
    "$$\n",
    "\\theta^\\mathrm{MAP} = \n",
    "\\mathrm{argmax}_\\theta \\left(\\mathcal{P}(\\theta|\\mathbf{Y}) \\right)\n",
    "=\n",
    "\\mathrm{argmax}_\\theta \\left( \\mathcal{P}(\\mathbf{Y}|\\theta) \\mathcal{P}(\\theta)\\right)\n",
    "$$\n"
   ]
  },
  {
   "cell_type": "markdown",
   "metadata": {},
   "source": [
    "# Typical Usage"
   ]
  },
  {
   "cell_type": "code",
   "execution_count": 10,
   "metadata": {
    "collapsed": true
   },
   "outputs": [],
   "source": [
    "import GPinv\n",
    "import GPflow"
   ]
  },
  {
   "cell_type": "code",
   "execution_count": 13,
   "metadata": {
    "collapsed": true
   },
   "outputs": [],
   "source": [
    "model = GPinv.linear_model.LinearModel(\n",
    "        r.reshape(-1,1), y.reshape(-1,1), Amat=A, kern = GPflow.kernels.RBF(1))"
   ]
  },
  {
   "cell_type": "code",
   "execution_count": 14,
   "metadata": {
    "collapsed": false
   },
   "outputs": [
    {
     "name": "stdout",
     "output_type": "stream",
     "text": [
      "compiling tensorflow function...\n",
      "done\n",
      "optimization terminated, setting model state\n"
     ]
    },
    {
     "data": {
      "text/plain": [
       "      fun: -27.923531584710044\n",
       " hess_inv: <3x3 LbfgsInvHessProduct with dtype=float64>\n",
       "      jac: array([ -3.94630267e-06,  -1.15748482e-05,  -3.43615279e-06])\n",
       "  message: b'CONVERGENCE: REL_REDUCTION_OF_F_<=_FACTR*EPSMCH'\n",
       "     nfev: 16\n",
       "      nit: 12\n",
       "   status: 0\n",
       "  success: True\n",
       "        x: array([-0.87094965, -0.54571078, -4.6398556 ])"
      ]
     },
     "execution_count": 14,
     "metadata": {},
     "output_type": "execute_result"
    }
   ],
   "source": [
    "model.optimize()"
   ]
  },
  {
   "cell_type": "code",
   "execution_count": 15,
   "metadata": {
    "collapsed": false
   },
   "outputs": [
    {
     "ename": "TypeError",
     "evalue": "build_predict() takes 1 positional argument but 2 were given",
     "output_type": "error",
     "traceback": [
      "\u001b[0;31m---------------------------------------------------------------------------\u001b[0m",
      "\u001b[0;31mTypeError\u001b[0m                                 Traceback (most recent call last)",
      "\u001b[0;32m<ipython-input-15-9cc1279effd6>\u001b[0m in \u001b[0;36m<module>\u001b[0;34m()\u001b[0m\n\u001b[0;32m----> 1\u001b[0;31m \u001b[0mmodel\u001b[0m\u001b[0;34m.\u001b[0m\u001b[0mpredict_f\u001b[0m\u001b[0;34m(\u001b[0m\u001b[0mr\u001b[0m\u001b[0;34m.\u001b[0m\u001b[0mreshape\u001b[0m\u001b[0;34m(\u001b[0m\u001b[0;34m-\u001b[0m\u001b[0;36m1\u001b[0m\u001b[0;34m,\u001b[0m\u001b[0;36m1\u001b[0m\u001b[0;34m)\u001b[0m\u001b[0;34m)\u001b[0m\u001b[0;34m\u001b[0m\u001b[0m\n\u001b[0m",
      "\u001b[0;32m/home/keisukefujii/Dropbox/projects/GPflow.git/GPflow/param.py\u001b[0m in \u001b[0;36mrunnable\u001b[0;34m(instance, *np_args)\u001b[0m\n\u001b[1;32m    492\u001b[0m                 \u001b[0mstorage\u001b[0m\u001b[0;34m[\u001b[0m\u001b[0;34m'tf_args'\u001b[0m\u001b[0;34m]\u001b[0m \u001b[0;34m=\u001b[0m \u001b[0;34m[\u001b[0m\u001b[0mtf\u001b[0m\u001b[0;34m.\u001b[0m\u001b[0mplaceholder\u001b[0m\u001b[0;34m(\u001b[0m\u001b[0;34m*\u001b[0m\u001b[0ma\u001b[0m\u001b[0;34m)\u001b[0m \u001b[0;32mfor\u001b[0m \u001b[0ma\u001b[0m \u001b[0;32min\u001b[0m \u001b[0mself\u001b[0m\u001b[0;34m.\u001b[0m\u001b[0mtf_arg_tuples\u001b[0m\u001b[0;34m]\u001b[0m\u001b[0;34m\u001b[0m\u001b[0m\n\u001b[1;32m    493\u001b[0m                 \u001b[0;32mwith\u001b[0m \u001b[0minstance\u001b[0m\u001b[0;34m.\u001b[0m\u001b[0mtf_mode\u001b[0m\u001b[0;34m(\u001b[0m\u001b[0;34m)\u001b[0m\u001b[0;34m:\u001b[0m\u001b[0;34m\u001b[0m\u001b[0m\n\u001b[0;32m--> 494\u001b[0;31m                     \u001b[0mstorage\u001b[0m\u001b[0;34m[\u001b[0m\u001b[0;34m'tf_result'\u001b[0m\u001b[0;34m]\u001b[0m \u001b[0;34m=\u001b[0m \u001b[0mtf_method\u001b[0m\u001b[0;34m(\u001b[0m\u001b[0minstance\u001b[0m\u001b[0;34m,\u001b[0m \u001b[0;34m*\u001b[0m\u001b[0mstorage\u001b[0m\u001b[0;34m[\u001b[0m\u001b[0;34m'tf_args'\u001b[0m\u001b[0;34m]\u001b[0m\u001b[0;34m)\u001b[0m\u001b[0;34m\u001b[0m\u001b[0m\n\u001b[0m\u001b[1;32m    495\u001b[0m                 \u001b[0mstorage\u001b[0m\u001b[0;34m[\u001b[0m\u001b[0;34m'session'\u001b[0m\u001b[0;34m]\u001b[0m \u001b[0;34m=\u001b[0m \u001b[0mtf\u001b[0m\u001b[0;34m.\u001b[0m\u001b[0mSession\u001b[0m\u001b[0;34m(\u001b[0m\u001b[0;34m)\u001b[0m\u001b[0;34m\u001b[0m\u001b[0m\n\u001b[1;32m    496\u001b[0m                 \u001b[0mstorage\u001b[0m\u001b[0;34m[\u001b[0m\u001b[0;34m'session'\u001b[0m\u001b[0;34m]\u001b[0m\u001b[0;34m.\u001b[0m\u001b[0mrun\u001b[0m\u001b[0;34m(\u001b[0m\u001b[0mtf\u001b[0m\u001b[0;34m.\u001b[0m\u001b[0minitialize_all_variables\u001b[0m\u001b[0;34m(\u001b[0m\u001b[0;34m)\u001b[0m\u001b[0;34m,\u001b[0m \u001b[0mfeed_dict\u001b[0m\u001b[0;34m=\u001b[0m\u001b[0minstance\u001b[0m\u001b[0;34m.\u001b[0m\u001b[0mget_feed_dict\u001b[0m\u001b[0;34m(\u001b[0m\u001b[0;34m)\u001b[0m\u001b[0;34m)\u001b[0m\u001b[0;34m\u001b[0m\u001b[0m\n",
      "\u001b[0;32m/home/keisukefujii/Dropbox/projects/GPflow.git/GPflow/model.py\u001b[0m in \u001b[0;36mpredict_f\u001b[0;34m(self, Xnew)\u001b[0m\n\u001b[1;32m    352\u001b[0m         \u001b[0mXnew\u001b[0m\u001b[0;34m.\u001b[0m\u001b[0;34m\u001b[0m\u001b[0m\n\u001b[1;32m    353\u001b[0m         \"\"\"\n\u001b[0;32m--> 354\u001b[0;31m         \u001b[0;32mreturn\u001b[0m \u001b[0mself\u001b[0m\u001b[0;34m.\u001b[0m\u001b[0mbuild_predict\u001b[0m\u001b[0;34m(\u001b[0m\u001b[0mXnew\u001b[0m\u001b[0;34m)\u001b[0m\u001b[0;34m\u001b[0m\u001b[0m\n\u001b[0m\u001b[1;32m    355\u001b[0m \u001b[0;34m\u001b[0m\u001b[0m\n\u001b[1;32m    356\u001b[0m     \u001b[0;34m@\u001b[0m\u001b[0mAutoFlow\u001b[0m\u001b[0;34m(\u001b[0m\u001b[0;34m(\u001b[0m\u001b[0mtf\u001b[0m\u001b[0;34m.\u001b[0m\u001b[0mfloat64\u001b[0m\u001b[0;34m,\u001b[0m \u001b[0;34m[\u001b[0m\u001b[0;32mNone\u001b[0m\u001b[0;34m,\u001b[0m \u001b[0;32mNone\u001b[0m\u001b[0;34m]\u001b[0m\u001b[0;34m)\u001b[0m\u001b[0;34m)\u001b[0m\u001b[0;34m\u001b[0m\u001b[0m\n",
      "\u001b[0;31mTypeError\u001b[0m: build_predict() takes 1 positional argument but 2 were given"
     ]
    }
   ],
   "source": [
    "model.predict_f(r.reshape(-1,1))"
   ]
  },
  {
   "cell_type": "code",
   "execution_count": null,
   "metadata": {
    "collapsed": true
   },
   "outputs": [],
   "source": []
  }
 ],
 "metadata": {
  "kernelspec": {
   "display_name": "Python 3",
   "language": "python",
   "name": "python3"
  },
  "language_info": {
   "codemirror_mode": {
    "name": "ipython",
    "version": 3
   },
   "file_extension": ".py",
   "mimetype": "text/x-python",
   "name": "python",
   "nbconvert_exporter": "python",
   "pygments_lexer": "ipython3",
   "version": "3.5.2"
  }
 },
 "nbformat": 4,
 "nbformat_minor": 0
}
